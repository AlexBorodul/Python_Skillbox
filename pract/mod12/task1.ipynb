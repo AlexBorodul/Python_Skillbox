{
  "cells": [
    {
      "cell_type": "code",
      "execution_count": 8,
      "metadata": {
        "id": "RhEmuVuM4ikx"
      },
      "outputs": [],
      "source": [
        "import sqlite3"
      ]
    },
    {
      "cell_type": "code",
      "execution_count": 9,
      "metadata": {
        "id": "ZVqgNXE84ik1"
      },
      "outputs": [],
      "source": [
        "# Подключение к исходной базе данных Netflix\n",
        "connection = sqlite3.connect('3_Sql_netflix.ipynb') \n",
        "cursor = connection.cursor()"
      ]
    },
    {
      "cell_type": "code",
      "execution_count": 10,
      "metadata": {
        "colab": {
          "base_uri": "https://localhost:8080/"
        },
        "id": "n6E0yQEc4ik2",
        "outputId": "83c49815-902b-40c6-a234-190a37971afa"
      },
      "outputs": [],
      "source": [
        "# Создание новой базы данных 'task1.sqlite'\n",
        "new_connection = sqlite3.connect('task1.sqlite')\n",
        "new_cursor = new_connection.cursor()"
      ]
    },
    {
      "cell_type": "code",
      "execution_count": 13,
      "metadata": {
        "colab": {
          "base_uri": "https://localhost:8080/"
        },
        "id": "31fX2RYq4ik6",
        "outputId": "fc66a259-9717-44de-ee78-5384d2ffa6d5"
      },
      "outputs": [
        {
          "data": {
            "text/plain": [
              "<sqlite3.Cursor at 0x1c91c735cc0>"
            ]
          },
          "execution_count": 13,
          "metadata": {},
          "output_type": "execute_result"
        }
      ],
      "source": [
        "# Создание таблиц для актеров, фильмов, таблицы актёр-фильм\n",
        "new_cursor.execute('''CREATE TABLE actors (\n",
        "                    actor_id INTEGER PRIMARY KEY,\n",
        "                    f_name TEXT,\n",
        "                    l_name TEXT\n",
        "                    )''')"
      ]
    },
    {
      "cell_type": "code",
      "execution_count": 12,
      "metadata": {
        "colab": {
          "base_uri": "https://localhost:8080/"
        },
        "id": "ULklo2tZ4ik7",
        "outputId": "60caf693-dbd4-4553-8e8f-af9824d3814f"
      },
      "outputs": [
        {
          "data": {
            "text/plain": [
              "<sqlite3.Cursor at 0x1c91c735cc0>"
            ]
          },
          "execution_count": 12,
          "metadata": {},
          "output_type": "execute_result"
        }
      ],
      "source": [
        "new_cursor.execute('''CREATE TABLE movies (\n",
        "                    movie_id INTEGER PRIMARY KEY,\n",
        "                    typr text,\n",
        "                    title TEXT,\n",
        "                    director text,\n",
        "                    country text,\n",
        "                    date_added TEXT,\n",
        "                    release_year integer,\n",
        "                    rating text,\n",
        "                    duration text,\n",
        "                    listened_id text,\n",
        "                    description text\n",
        "                    )''')"
      ]
    },
    {
      "cell_type": "code",
      "execution_count": 14,
      "metadata": {
        "id": "_9adz7qr4ik7",
        "outputId": "2b45435d-bd32-4f68-a3d0-b0ca8e4e1b11"
      },
      "outputs": [
        {
          "data": {
            "text/plain": [
              "<sqlite3.Cursor at 0x1c91c735cc0>"
            ]
          },
          "execution_count": 14,
          "metadata": {},
          "output_type": "execute_result"
        }
      ],
      "source": [
        "new_cursor.execute('''CREATE TABLE actor_movie (\n",
        "                    actor_id INTEGER,\n",
        "                    movie_id INTEGER,\n",
        "                    FOREIGN KEY (actor_id) REFERENCES actors(id),\n",
        "                    FOREIGN KEY (movie_id) REFERENCES movies(id))''')"
      ]
    },
    {
      "cell_type": "code",
      "execution_count": 18,
      "metadata": {
        "id": "OxvwQ4iv4ik8",
        "outputId": "9ce31ff8-d6a2-4458-e375-32cbdc5df40e"
      },
      "outputs": [
        {
          "ename": "DatabaseError",
          "evalue": "file is not a database",
          "output_type": "error",
          "traceback": [
            "\u001b[1;31m---------------------------------------------------------------------------\u001b[0m",
            "\u001b[1;31mDatabaseError\u001b[0m                             Traceback (most recent call last)",
            "Cell \u001b[1;32mIn[18], line 2\u001b[0m\n\u001b[0;32m      1\u001b[0m \u001b[38;5;66;03m# Получение данных из исходной базы и добавление их в новую базу\u001b[39;00m\n\u001b[1;32m----> 2\u001b[0m actors_data \u001b[38;5;241m=\u001b[39m \u001b[43mcursor\u001b[49m\u001b[38;5;241;43m.\u001b[39;49m\u001b[43mexecute\u001b[49m\u001b[43m(\u001b[49m\u001b[38;5;124;43m'\u001b[39;49m\u001b[38;5;124;43mSELECT DISTINCT actor FROM netflix.netflix_titles\u001b[39;49m\u001b[38;5;124;43m'\u001b[39;49m\u001b[43m)\u001b[49m\u001b[38;5;241m.\u001b[39mfetchall()\n\u001b[0;32m      3\u001b[0m movies_data \u001b[38;5;241m=\u001b[39m cursor\u001b[38;5;241m.\u001b[39mexecute(\u001b[38;5;124m'\u001b[39m\u001b[38;5;124mSELECT DISTINCT movie FROM netflix.netflix_titles\u001b[39m\u001b[38;5;124m'\u001b[39m)\u001b[38;5;241m.\u001b[39mfetchall()\n",
            "\u001b[1;31mDatabaseError\u001b[0m: file is not a database"
          ]
        }
      ],
      "source": [
        "# Получение данных из исходной базы и добавление их в новую базу\n",
        "actors_data = cursor.execute('SELECT DISTINCT actor FROM netflix.netflix_titles').fetchall()\n",
        "movies_data = cursor.execute('SELECT DISTINCT movie FROM netflix.netflix_titles').fetchall()"
      ]
    },
    {
      "cell_type": "code",
      "execution_count": null,
      "metadata": {
        "id": "sI_nJtyC4ik9"
      },
      "outputs": [],
      "source": [
        "actor_movie_data = cursor.execute('SELECT actor, movie FROM netflix').fetchall()\n",
        "actor_ids = {actor[0]: index+1 for index, actor in enumerate(actors_data)}\n",
        "movie_ids = {movie[0]: index+1 for index, movie in enumerate(movies_data)}\n",
        "\n",
        "for actor, movie in actor_movie_data:\n",
        "    new_cursor.execute('INSERT INTO actor_movie (actor_id, movie_id) VALUES (?, ?)', (actor_ids[actor], movie_ids[movie]))"
      ]
    },
    {
      "cell_type": "code",
      "execution_count": null,
      "metadata": {
        "id": "0FEvNqaN4ik9",
        "outputId": "d1fe01bf-d26f-45ae-9f9f-6e0da1bfdb8a"
      },
      "outputs": [
        {
          "data": {
            "text/plain": [
              "[(81145628,\n",
              "  'Movie',\n",
              "  'Norm of the North: King Sized Adventure',\n",
              "  'Richard Finn, Tim Maltby',\n",
              "  'Alan Marriott, Andrew Toth, Brian Dobson, Cole Howard, Jennifer Cameron, Jonathan Holmes, Lee Tockar, Lisa Durupt, Maya Kay, Michael Dobson',\n",
              "  'United States, India, South Korea, China',\n",
              "  'September 9, 2019',\n",
              "  2019,\n",
              "  'TV-PG',\n",
              "  '90 min',\n",
              "  'Children & Family Movies, Comedies',\n",
              "  'Before planning an awesome wedding for his grandfather, a polar bear king must take back a stolen artifact from an evil archaeologist first.'),\n",
              " (80117401,\n",
              "  'Movie',\n",
              "  'Jandino: Whatever it Takes',\n",
              "  '',\n",
              "  'Jandino Asporaat',\n",
              "  'United Kingdom',\n",
              "  'September 9, 2016',\n",
              "  2016,\n",
              "  'TV-MA',\n",
              "  '94 min',\n",
              "  'Stand-Up Comedy',\n",
              "  'Jandino Asporaat riffs on the challenges of raising kids and serenades the audience with a rousing rendition of \"Sex on Fire\" in his comedy show.'),\n",
              " (70234439,\n",
              "  'TV Show',\n",
              "  'Transformers Prime',\n",
              "  '',\n",
              "  'Peter Cullen, Sumalee Montano, Frank Welker, Jeffrey Combs, Kevin Michael Richardson, Tania Gunadi, Josh Keaton, Steve Blum, Andy Pessoa, Ernie Hudson, Daran Norris, Will Friedle',\n",
              "  'United States',\n",
              "  'September 8, 2018',\n",
              "  2013,\n",
              "  'TV-Y7-FV',\n",
              "  '1 Season',\n",
              "  \"Kids' TV\",\n",
              "  'With the help of three human allies, the Autobots once again protect Earth from the onslaught of the Decepticons and their leader, Megatron.')]"
            ]
          },
          "execution_count": 22,
          "metadata": {},
          "output_type": "execute_result"
        }
      ],
      "source": [
        "new_connection.commit()\n",
        "new_connection.close()\n",
        "connection.close()"
      ]
    },
    {
      "cell_type": "code",
      "execution_count": null,
      "metadata": {
        "id": "0806SW0_4ik-",
        "outputId": "b33528b2-ec93-45d0-b41c-6395ccf06e32"
      },
      "outputs": [
        {
          "data": {
            "text/plain": [
              "(('show_id', None, None, None, None, None, None),\n",
              " ('type', None, None, None, None, None, None),\n",
              " ('title', None, None, None, None, None, None),\n",
              " ('director', None, None, None, None, None, None),\n",
              " ('cast', None, None, None, None, None, None),\n",
              " ('country', None, None, None, None, None, None),\n",
              " ('date_added', None, None, None, None, None, None),\n",
              " ('release_year', None, None, None, None, None, None),\n",
              " ('rating', None, None, None, None, None, None),\n",
              " ('duration', None, None, None, None, None, None),\n",
              " ('listed_in', None, None, None, None, None, None),\n",
              " ('description', None, None, None, None, None, None))"
            ]
          },
          "execution_count": 29,
          "metadata": {},
          "output_type": "execute_result"
        }
      ],
      "source": [
        "# Запрос на нахождение наиболее часто работающей друг с другом пары актеров\n",
        "connection = sqlite3.connect('task1.sqlite') \n",
        "cursor = connection.cursor()\n",
        "\n",
        "result = cursor.execute('''\n",
        "            SELECT a1.name, a2.name, COUNT(*) as count \n",
        "            FROM actors a1 \n",
        "            JOIN actor_movie am1 ON a1.id = am1.actor_id \n",
        "            JOIN actor_movie am2 ON am1.movie_id = am2.movie_id\n",
        "            JOIN actors a2 ON am2.actor_id = a2.id\n",
        "            WHERE a1.id < a2.id\n",
        "            GROUP BY a1.name, a2.name \n",
        "            ORDER BY count DESC \n",
        "            LIMIT 1\n",
        "        ''').fetchone()\n",
        "\n",
        "print(f\"Наиболее часто работающая друг с другом пара актеров: {result[0]} и {result[1]} ({result[2]} фильмов вместе)\")\n",
        "connection.close()"
      ]
    }
  ],
  "metadata": {
    "colab": {
      "collapsed_sections": [],
      "name": "3_Sql_netflix.ipynb",
      "provenance": []
    },
    "kernelspec": {
      "display_name": "Python 3",
      "language": "python",
      "name": "python3"
    },
    "language_info": {
      "codemirror_mode": {
        "name": "ipython",
        "version": 3
      },
      "file_extension": ".py",
      "mimetype": "text/x-python",
      "name": "python",
      "nbconvert_exporter": "python",
      "pygments_lexer": "ipython3",
      "version": "3.11.5"
    }
  },
  "nbformat": 4,
  "nbformat_minor": 0
}
